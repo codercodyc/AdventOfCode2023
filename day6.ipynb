{
 "cells": [
  {
   "cell_type": "markdown",
   "metadata": {},
   "source": [
    "# Day 6"
   ]
  },
  {
   "cell_type": "code",
   "execution_count": 4,
   "metadata": {},
   "outputs": [],
   "source": [
    "data = \\\n",
    "'''Time:        38     67     76     73\n",
    "Distance:   234   1027   1157   1236'''\n",
    "\n",
    "sample_data = \\\n",
    "'''Time:      7  15   30\n",
    "Distance:  9  40  200'''"
   ]
  },
  {
   "cell_type": "code",
   "execution_count": 10,
   "metadata": {},
   "outputs": [],
   "source": [
    "def parse_data(data_string):\n",
    "    data = data_string.splitlines()\n",
    "    time = list(map(int, data[0].split()[1:]))\n",
    "    distance = list(map(int, data[1].split()[1:]))\n",
    "    return [time, distance]\n",
    "\n",
    "sample_inputs = parse_data(sample_data)\n"
   ]
  },
  {
   "cell_type": "markdown",
   "metadata": {},
   "source": [
    "- distance = tx -x^2\n",
    "\n",
    "    `0 = -x^2 + tx - distance`\n",
    "\n",
    "- t is time total game time\n",
    "- x is time holding boat"
   ]
  },
  {
   "cell_type": "code",
   "execution_count": 25,
   "metadata": {},
   "outputs": [
    {
     "data": {
      "text/plain": [
       "[1.6972243622680054, 5.302775637731995]"
      ]
     },
     "execution_count": 25,
     "metadata": {},
     "output_type": "execute_result"
    }
   ],
   "source": [
    "import math as m\n",
    "\n",
    "def times_greater_than_record(game_length, record):\n",
    "    # equation will give distance for each time\n",
    "    # solve for hold times when distance is equal to record\n",
    "    a = -1\n",
    "    b = game_length\n",
    "    c = - 1 * record\n",
    "    m\n",
    "    \n",
    "    sol1 = (-b + m.sqrt(b**2 - 4*a*c)) / (2*a)\n",
    "    sol2 = (-b - m.sqrt(b**2 - 4*a*c)) / (2*a)\n",
    "\n",
    "    return [sol1, sol2]\n",
    "    \n",
    "times_greater_than_record(7,9)"
   ]
  }
 ],
 "metadata": {
  "kernelspec": {
   "display_name": "adventofcode2023-yWUoDSqX-py3.10",
   "language": "python",
   "name": "python3"
  },
  "language_info": {
   "codemirror_mode": {
    "name": "ipython",
    "version": 3
   },
   "file_extension": ".py",
   "mimetype": "text/x-python",
   "name": "python",
   "nbconvert_exporter": "python",
   "pygments_lexer": "ipython3",
   "version": "3.10.12"
  }
 },
 "nbformat": 4,
 "nbformat_minor": 2
}
