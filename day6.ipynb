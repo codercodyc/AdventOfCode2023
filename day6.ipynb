{
 "cells": [
  {
   "cell_type": "markdown",
   "metadata": {},
   "source": [
    "# Day 6"
   ]
  },
  {
   "cell_type": "code",
   "execution_count": 11,
   "metadata": {},
   "outputs": [],
   "source": [
    "data = \\\n",
    "'''Time:        38     67     76     73\n",
    "Distance:   234   1027   1157   1236'''\n",
    "\n",
    "sample_data = \\\n",
    "'''Time:      7  15   30\n",
    "Distance:  9  40  200'''"
   ]
  },
  {
   "cell_type": "code",
   "execution_count": 12,
   "metadata": {},
   "outputs": [],
   "source": [
    "def parse_data_1(data_string):\n",
    "    data = data_string.splitlines()\n",
    "    time = list(map(int, data[0].split()[1:]))\n",
    "    distance = list(map(int, data[1].split()[1:]))\n",
    "    \n",
    "    return [(time[i], distance[i]) for i in range(len(time))]\n",
    "\n",
    "def parse_data_2(data_string):\n",
    "    data = data_string.splitlines()\n",
    "    data = [item.replace(' ', '').split(':') for item in data]\n",
    "    data = [[int(subitem)] for item in data for subitem in item if subitem.isdigit()]\n",
    "    \n",
    "    return [(data[0][i], data[1][i]) for i in range(len(data[0]))]\n"
   ]
  },
  {
   "cell_type": "markdown",
   "metadata": {},
   "source": [
    "## Formulas\n",
    "- distance = tx -x^2\n",
    "\n",
    "    `0 = -x^2 + tx - distance`\n",
    "\n",
    "- t is time total game time\n",
    "- x is time holding boat"
   ]
  },
  {
   "cell_type": "code",
   "execution_count": 13,
   "metadata": {},
   "outputs": [],
   "source": [
    "import math as m\n",
    "\n",
    "def times_greater_than_record(game_time, record_distance):\n",
    "    # equation will give distance for each time\n",
    "    # solve for hold times when distance is equal to record\n",
    "    a = -1\n",
    "    b = game_time\n",
    "    c = -record_distance\n",
    "    \n",
    "    # quadratic formula\n",
    "    sol1 = (-b + m.sqrt(b**2 - 4*a*c)) / (2*a)\n",
    "    sol2 = (-b - m.sqrt(b**2 - 4*a*c)) / (2*a)\n",
    "\n",
    "    # get min and max times from solutions\n",
    "    min = m.floor(sol1) + 1\n",
    "    max = m.ceil(sol2) - 1\n",
    "\n",
    "    # return total number of times greater than record\n",
    "    return max - min + 1\n",
    "\n",
    "def solve(parsed_data):\n",
    "    results = [times_greater_than_record(race[0], race[1]) for race in parsed_data]\n",
    "    # print(results)\n",
    "    return m.prod(results)\n",
    "    "
   ]
  },
  {
   "cell_type": "code",
   "execution_count": 15,
   "metadata": {},
   "outputs": [
    {
     "name": "stdout",
     "output_type": "stream",
     "text": [
      "Part 1:\n",
      "sample solution: 288\n",
      "solution: 303600\n",
      "\n",
      "Part 2:\n",
      "sample solution: 71503\n",
      "solution: 23654842\n",
      "--- 0.0002760887145996094 seconds ---\n"
     ]
    }
   ],
   "source": [
    "import datetime\n",
    "import time\n",
    "start_time = time.time()\n",
    "# print('Start:', datetime.datetime.now())\n",
    "\n",
    "print('Part 1:')\n",
    "print('sample solution:', solve(parse_data_1(sample_data)))\n",
    "print('solution:', solve(parse_data_1(data)))\n",
    "\n",
    "print('\\nPart 2:')\n",
    "\n",
    "print('sample solution:', solve(parse_data_2(sample_data)))\n",
    "print('solution:', solve(parse_data_2(data)))\n",
    "\n",
    "print(\"--- %s seconds ---\" % (time.time() - start_time))\n",
    "# print('End:', datetime.datetime.now())"
   ]
  }
 ],
 "metadata": {
  "kernelspec": {
   "display_name": "adventofcode2023-yWUoDSqX-py3.10",
   "language": "python",
   "name": "python3"
  },
  "language_info": {
   "codemirror_mode": {
    "name": "ipython",
    "version": 3
   },
   "file_extension": ".py",
   "mimetype": "text/x-python",
   "name": "python",
   "nbconvert_exporter": "python",
   "pygments_lexer": "ipython3",
   "version": "3.10.12"
  }
 },
 "nbformat": 4,
 "nbformat_minor": 2
}
