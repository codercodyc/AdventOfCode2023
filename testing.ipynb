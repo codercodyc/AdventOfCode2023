{
 "cells": [
  {
   "cell_type": "code",
   "execution_count": 16,
   "metadata": {},
   "outputs": [
    {
     "name": "stdout",
     "output_type": "stream",
     "text": [
      "one two three four\n"
     ]
    }
   ],
   "source": [
    "data = [0,1,2, 4, 5, 6]\n",
    "data_dict = {'one': 1, 'two': 2, 'three': 3, 'four': 4}\n",
    "\n",
    "# one, two, *_, next, last = data\n",
    "\n",
    "print(*data_dict)\n",
    "\n",
    "# print(one, two, next, last)"
   ]
  }
 ],
 "metadata": {
  "kernelspec": {
   "display_name": "adventofcode2023-yWUoDSqX-py3.10",
   "language": "python",
   "name": "python3"
  },
  "language_info": {
   "codemirror_mode": {
    "name": "ipython",
    "version": 3
   },
   "file_extension": ".py",
   "mimetype": "text/x-python",
   "name": "python",
   "nbconvert_exporter": "python",
   "pygments_lexer": "ipython3",
   "version": "3.10.12"
  }
 },
 "nbformat": 4,
 "nbformat_minor": 2
}
